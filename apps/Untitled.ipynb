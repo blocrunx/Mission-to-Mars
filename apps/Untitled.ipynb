{
 "cells": [
  {
   "cell_type": "code",
   "execution_count": 1,
   "metadata": {},
   "outputs": [],
   "source": [
    "import pandas as pd\n",
    "# Import Splinter and BeautifulSoup\n",
    "from splinter import Browser\n",
    "from bs4 import BeautifulSoup\n",
    "import datetime as dt"
   ]
  },
  {
   "cell_type": "code",
   "execution_count": 9,
   "metadata": {},
   "outputs": [],
   "source": [
    "browser = Browser(\"chrome\", executable_path=\"chromedriver\", headless=False)"
   ]
  },
  {
   "cell_type": "code",
   "execution_count": 10,
   "metadata": {},
   "outputs": [],
   "source": [
    "# Visit URL\n",
    "url = 'https://astrogeology.usgs.gov/search/results?q=hemisphere+enhanced&k1=target&v1=Mars'\n",
    "browser.visit(url)\n",
    "image_list = []"
   ]
  },
  {
   "cell_type": "code",
   "execution_count": 11,
   "metadata": {},
   "outputs": [],
   "source": [
    "html = browser.html\n",
    "chal_soup = BeautifulSoup(html, 'html.parser')"
   ]
  },
  {
   "cell_type": "code",
   "execution_count": 12,
   "metadata": {},
   "outputs": [],
   "source": [
    "some_list = []\n",
    "identifier = '/search/map'\n",
    "#image_elements = chal_soup.find_all('a',{'class':'itemLink product-item'})\n",
    "for a in chal_soup.find_all('a', href=True):\n",
    "    some_list.append(a['href'])"
   ]
  },
  {
   "cell_type": "code",
   "execution_count": 13,
   "metadata": {},
   "outputs": [
    {
     "name": "stdout",
     "output_type": "stream",
     "text": [
      "['/search/map/Mars/Viking/cerberus_enhanced', '/search/map/Mars/Viking/schiaparelli_enhanced', '/search/map/Mars/Viking/syrtis_major_enhanced', '/search/map/Mars/Viking/valles_marineris_enhanced']\n"
     ]
    }
   ],
   "source": [
    "test = 'map/Mars'\n",
    "thumb_list =  []\n",
    "for list_item in some_list:\n",
    "    if (test in list_item) and (list_item not in thumb_list):\n",
    "        thumb_list.append(list_item)\n",
    "       \n",
    "print(thumb_list)"
   ]
  },
  {
   "cell_type": "code",
   "execution_count": 17,
   "metadata": {},
   "outputs": [],
   "source": [
    "# build urls\n",
    "image_list = []\n",
    "for address in thumb_list:\n",
    "    #build urls\n",
    "    target_url = f'https://astrogeology.usgs.gov{address}'\n",
    "    browser.visit(target_url)\n",
    "    html = browser.html\n",
    "    current_soup = BeautifulSoup(html, 'html.parser')\n",
    "    relative_image_url = current_soup.find('img', {'class':'wide-image'}).get('src')\n",
    "    full_image_url = f'https://astrogeology.usgs.gov{relative_image_url}'\n",
    "    image_list.append(full_image_url)"
   ]
  },
  {
   "cell_type": "code",
   "execution_count": 18,
   "metadata": {},
   "outputs": [
    {
     "data": {
      "text/plain": [
       "['https://astrogeology.usgs.gov/cache/images/cfa62af2557222a02478f1fcd781d445_cerberus_enhanced.tif_full.jpg',\n",
       " 'https://astrogeology.usgs.gov/cache/images/3cdd1cbf5e0813bba925c9030d13b62e_schiaparelli_enhanced.tif_full.jpg',\n",
       " 'https://astrogeology.usgs.gov/cache/images/ae209b4e408bb6c3e67b6af38168cf28_syrtis_major_enhanced.tif_full.jpg',\n",
       " 'https://astrogeology.usgs.gov/cache/images/7cf2da4bf549ed01c17f206327be4db7_valles_marineris_enhanced.tif_full.jpg']"
      ]
     },
     "execution_count": 18,
     "metadata": {},
     "output_type": "execute_result"
    }
   ],
   "source": [
    "image_list"
   ]
  },
  {
   "cell_type": "code",
   "execution_count": 19,
   "metadata": {},
   "outputs": [],
   "source": [
    "cerberus = image_list[0]\n",
    "schiaparelli = image_list[1]\n",
    "syrtis_major = image_list[2]\n",
    "valles_marineris = image_list[3]"
   ]
  },
  {
   "cell_type": "code",
   "execution_count": 23,
   "metadata": {},
   "outputs": [
    {
     "data": {
      "text/plain": [
       "'https://astrogeology.usgs.gov/cache/images/7cf2da4bf549ed01c17f206327be4db7_valles_marineris_enhanced.tif_full.jpg'"
      ]
     },
     "execution_count": 23,
     "metadata": {},
     "output_type": "execute_result"
    }
   ],
   "source": []
  },
  {
   "cell_type": "code",
   "execution_count": 27,
   "metadata": {},
   "outputs": [
    {
     "name": "stdout",
     "output_type": "stream",
     "text": [
      "['https://astrogeology.usgs.gov/cache/images/cfa62af2557222a02478f1fcd781d445_cerberus_enhanced.tif_full.jpg', 'https://astrogeology.usgs.gov/cache/images/3cdd1cbf5e0813bba925c9030d13b62e_schiaparelli_enhanced.tif_full.jpg', 'https://astrogeology.usgs.gov/cache/images/ae209b4e408bb6c3e67b6af38168cf28_syrtis_major_enhanced.tif_full.jpg', 'https://astrogeology.usgs.gov/cache/images/7cf2da4bf549ed01c17f206327be4db7_valles_marineris_enhanced.tif_full.jpg']\n"
     ]
    }
   ],
   "source": [
    "# Visit URL\n",
    "browser = Browser(\"chrome\", executable_path=\"chromedriver\", headless=False)\n",
    "url = 'https://astrogeology.usgs.gov/search/results?q=hemisphere+enhanced&k1=target&v1=Mars'\n",
    "browser.visit(url)\n",
    "\n",
    "html = browser.html\n",
    "chal_soup = BeautifulSoup(html, 'html.parser')\n",
    "\n",
    "image_list = []\n",
    "some_list = []\n",
    "\n",
    "for a in chal_soup.find_all('a', href=True):\n",
    "    some_list.append(a['href'])\n",
    "\n",
    "test = 'map/Mars'\n",
    "thumb_list =  []\n",
    "for list_item in some_list:\n",
    "    if (test in list_item) and (list_item not in thumb_list):\n",
    "        thumb_list.append(list_item)\n",
    "# build urls\n",
    "image_list = []\n",
    "for address in thumb_list:\n",
    "\n",
    "    # Navigate to the page where image src is located\n",
    "    target_url = f'https://astrogeology.usgs.gov{address}'\n",
    "    browser.visit(target_url)\n",
    "    html = browser.html\n",
    "\n",
    "    # Parse soup to locate src\n",
    "    current_soup = BeautifulSoup(html, 'html.parser')\n",
    "    relative_image_url = current_soup.find('img', {'class':'wide-image'}).get('src')\n",
    "\n",
    "    # Combine relative url with base to get full image url\n",
    "    full_image_url = f'https://astrogeology.usgs.gov{relative_image_url}'\n",
    "\n",
    "    # Add complete url to list of urls\n",
    "    image_list.append(full_image_url)\n",
    "print(image_list)"
   ]
  },
  {
   "cell_type": "code",
   "execution_count": null,
   "metadata": {},
   "outputs": [],
   "source": []
  }
 ],
 "metadata": {
  "kernelspec": {
   "display_name": "PythonData",
   "language": "python",
   "name": "pythondata"
  },
  "language_info": {
   "codemirror_mode": {
    "name": "ipython",
    "version": 3
   },
   "file_extension": ".py",
   "mimetype": "text/x-python",
   "name": "python",
   "nbconvert_exporter": "python",
   "pygments_lexer": "ipython3",
   "version": "3.7.6"
  }
 },
 "nbformat": 4,
 "nbformat_minor": 4
}
